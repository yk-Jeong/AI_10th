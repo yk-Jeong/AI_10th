{
  "nbformat": 4,
  "nbformat_minor": 0,
  "metadata": {
    "colab": {
      "provenance": [],
      "authorship_tag": "ABX9TyN89nD5Kz32TE74lNC6Arpj",
      "include_colab_link": true
    },
    "kernelspec": {
      "name": "python3",
      "display_name": "Python 3"
    },
    "language_info": {
      "name": "python"
    }
  },
  "cells": [
    {
      "cell_type": "markdown",
      "metadata": {
        "id": "view-in-github",
        "colab_type": "text"
      },
      "source": [
        "<a href=\"https://colab.research.google.com/github/yk-Jeong/AI_10th/blob/main/3%EC%A3%BC%EC%B0%A8_%EB%BF%85%EB%BF%85.ipynb\" target=\"_parent\"><img src=\"https://colab.research.google.com/assets/colab-badge.svg\" alt=\"Open In Colab\"/></a>"
      ]
    },
    {
      "cell_type": "markdown",
      "source": [
        "### 0. 사전준비"
      ],
      "metadata": {
        "id": "v7PlXYOLDWOj"
      }
    },
    {
      "cell_type": "code",
      "source": [
        "import numpy as np # numpy import \n",
        "X = np.array([0, 0, 1, 1, 0, 1, 0, 1]).reshape(2,4) # 입력\n",
        "Y = np.array([0, 1, 1, 0]).reshape(1,4) # 정답 \n",
        "\n",
        "print(X)\n",
        "print(Y)"
      ],
      "metadata": {
        "colab": {
          "base_uri": "https://localhost:8080/"
        },
        "id": "cw60rfPnDYRd",
        "outputId": "9565ce8a-0d2d-4b03-be04-213af746d603"
      },
      "execution_count": 148,
      "outputs": [
        {
          "output_type": "stream",
          "name": "stdout",
          "text": [
            "[[0 0 1 1]\n",
            " [0 1 0 1]]\n",
            "[[0 1 1 0]]\n"
          ]
        }
      ]
    },
    {
      "cell_type": "code",
      "source": [
        "# 가중치 초기화 함수\n",
        "def init_parameters(num_hidden_units = 2):\n",
        "  W1 = np.random.randn(2, num_hidden_units) # 첫번째 레이어 가중치\n",
        "  B1 = np.zeros((num_hidden_units,1)) # 첫번째 레이어 바이어스\n",
        "  # ------ ↑첫 번째 레이어, ↓두 번째 레이어\n",
        "  W2 = np.random.randn(num_hidden_units, 1) # 두번째 레이어 가중치\n",
        "  B2 = np.zeros((1, 1)) # 두번째 레이어의 바이어스\n",
        "  return W1, B1, W2, B2 # 가중치 파라미터 리턴"
      ],
      "metadata": {
        "id": "uZAZZNg0Ddbk"
      },
      "execution_count": 149,
      "outputs": []
    },
    {
      "cell_type": "code",
      "source": [
        "init_parameters(2)"
      ],
      "metadata": {
        "colab": {
          "base_uri": "https://localhost:8080/"
        },
        "id": "3yfXmss_Dfr-",
        "outputId": "ad76f32e-d715-4932-8593-82cc18de5c4f"
      },
      "execution_count": 150,
      "outputs": [
        {
          "output_type": "execute_result",
          "data": {
            "text/plain": [
              "(array([[-0.11564828, -0.3011037 ],\n",
              "        [-1.47852199, -0.71984421]]),\n",
              " array([[0.],\n",
              "        [0.]]),\n",
              " array([[-0.46063877],\n",
              "        [ 1.05712223]]),\n",
              " array([[0.]]))"
            ]
          },
          "metadata": {},
          "execution_count": 150
        }
      ]
    },
    {
      "cell_type": "markdown",
      "source": [
        "1) 어파인 변환 연산과 시그모이드 활성화 함수 만들기 "
      ],
      "metadata": {
        "id": "aQuqc6prUC6X"
      }
    },
    {
      "cell_type": "code",
      "execution_count": 151,
      "metadata": {
        "id": "4H5muQ6hT77J"
      },
      "outputs": [],
      "source": [
        "# Affine transform을 구현하세요.\n",
        "def affine(W, X, B):\n",
        "  return np.dot(W.T, X) + B\n",
        "\n",
        "# sigmoid function을 구현하세요.\n",
        "def sigmoid(z):\n",
        "  return 1 / (1 + np.exp(-z))"
      ]
    },
    {
      "cell_type": "code",
      "source": [
        "# 임의로 w, b, x를 만들고 affine 함수를 테스트 해봅니다\n",
        "w = np.arange(4).reshape(2,2)\n",
        "b = [[1],[2]]\n",
        "x = [[1],[1]]\n",
        "\n",
        "print(affine(w, x, b)) # affine test -> [[3],[6]] \n",
        "print(sigmoid(0.1)) # sigmoide test -> 0.524979"
      ],
      "metadata": {
        "colab": {
          "base_uri": "https://localhost:8080/"
        },
        "id": "kAj2geBGEbfO",
        "outputId": "16568e1e-571e-46aa-a9aa-747871d77c5b"
      },
      "execution_count": 152,
      "outputs": [
        {
          "output_type": "stream",
          "name": "stdout",
          "text": [
            "[[3]\n",
            " [6]]\n",
            "0.52497918747894\n"
          ]
        }
      ]
    },
    {
      "cell_type": "markdown",
      "source": [
        "2) 손실함수 만들기 : 이진 크로스 엔트로피"
      ],
      "metadata": {
        "id": "eV1sjGanUEAF"
      }
    },
    {
      "cell_type": "code",
      "source": [
        "def binary_cross_entropy(Y, YHat):\n",
        "  N = Y.shape[1] # 총 샘플의 수\n",
        "  loss = -1/N * np.sum(Y * np.log(YHat)+ (1 - Y)*np.log(1 - YHat)) \n",
        "  return loss"
      ],
      "metadata": {
        "id": "9abp-tKyUFfl"
      },
      "execution_count": 153,
      "outputs": []
    },
    {
      "cell_type": "code",
      "source": [
        "# 정답 확인\n",
        "Y = np.array([0, 1, 1, 0]).reshape(1, 4) # 정답\n",
        "YHat = np.array([0.5, 0.5, 0.5, 0.5]).reshape(1, 4) # 추값\n",
        "\n",
        "loss = binary_cross_entropy(Y, YHat)\n",
        "print(\"2진 크로스엔트로피 비용:\", loss)"
      ],
      "metadata": {
        "colab": {
          "base_uri": "https://localhost:8080/"
        },
        "id": "tKSgMtycH8iJ",
        "outputId": "3c0f5fb2-a33a-43d7-a595-3105a8eee373"
      },
      "execution_count": 154,
      "outputs": [
        {
          "output_type": "stream",
          "name": "stdout",
          "text": [
            "2진 크로스엔트로피 비용: 0.6931471805599453\n"
          ]
        }
      ]
    },
    {
      "cell_type": "markdown",
      "source": [
        "3) 2레이어 뉴럴네트워크 순방향 연산 구현하기\n",
        "\n"
      ],
      "metadata": {
        "id": "Nn2jF6cOUFQF"
      }
    },
    {
      "cell_type": "code",
      "source": [
        "def forward_loss(X, Y, _params):\n",
        "  W1, B1, W2, B2 = _params \n",
        "\n",
        "  # 첫번째 레이어연산\n",
        "  Z1 = np.dot(W1.T, X) + B1\n",
        "  H = 1 / (1 + np.exp(-Z1))\n",
        "\n",
        "  # 두번째 레이어 연산\n",
        "  Z2 = np.dot(W2.T, H) + B2\n",
        "  YHat = 1 / (1 + np.exp(-Z2))\n",
        "\n",
        "  # 손실함수 계산\n",
        "  N = YHat.shape[1]\n",
        "  loss = -1/N * np.sum(Y * np.log(YHat)+ (1 - Y)*np.log(1 - YHat)) \n",
        "\n",
        "  return Z1, H, Z2, YHat, loss"
      ],
      "metadata": {
        "id": "leVNSoKgUH1F"
      },
      "execution_count": 155,
      "outputs": []
    },
    {
      "cell_type": "code",
      "source": [
        "np.random.seed(42) # random seed로 고정\n",
        "W1, B1, W2, B2 = init_parameters(num_hidden_units = 2) # 파라미터 초기화\n",
        "forward_loss(X, Y, [W1, B1, W2, B2])[-1] # loss출력 : 0.70492209"
      ],
      "metadata": {
        "colab": {
          "base_uri": "https://localhost:8080/"
        },
        "id": "yzyXMOw1TFZs",
        "outputId": "5e56d811-0425-4f9a-f3cb-165aa0a81011"
      },
      "execution_count": 156,
      "outputs": [
        {
          "output_type": "execute_result",
          "data": {
            "text/plain": [
              "0.7049220984497544"
            ]
          },
          "metadata": {},
          "execution_count": 156
        }
      ]
    },
    {
      "cell_type": "markdown",
      "source": [
        "4) 2레이어 뉴럴네트워크의 역방향 그레디언트 계산하기"
      ],
      "metadata": {
        "id": "11J6ENV_UHj9"
      }
    },
    {
      "cell_type": "code",
      "source": [
        "def get_gradients(X, Y, _params):\n",
        "  W1, B1, W2, B2 = _params\n",
        "  m = X.shape[1] # 샘플의 수\n",
        "  # 포워드 함수 통과 후 출력 \n",
        "    # - Z1 : 첫번재 레이어 affine 결과\n",
        "    # - H : 첫번재 레이어 sigmoid 통과한 결과\n",
        "    # - Z2 : 두번재 레이어 affine 통과한 결과\n",
        "    # - YHat : 두번재 레이어 sigmoid 통과한 결과\n",
        "    # - loss : 크로스엔트로피 손실값 \n",
        "  Z1, H, Z2, YHat, loss = forward_loss(X, Y, _params) \n",
        "\n",
        "  # 1) dLoss/dZ2 구현. 손실함수가 각 샘플 손실의 평균으로 계산되기 때문에 그대로 구현하였습니다. \n",
        "  dLdZ2 = (1 / m)*(YHat - Y) # 그림에서 1의 구현\n",
        "\n",
        "  # 2) dLoss/dW2의 구현 - '...'을 구현하세요. \n",
        "  dLdW2 = np.dot(H, dLdZ2.T) # 그림에서 2의 구현 (초록색 2번 참고)\n",
        "\n",
        "  # 3) dLoss/dB2의 구현 - 샘플마다 gradient가 있음. 따라서 합쳐줘야 함.  \n",
        "  dLdB2 = np.sum(dLdZ2, axis=1, keepdims=True) # 그림에서 3의 구현\n",
        "\n",
        "  # 4) dLoss/dH의 구현 - '...'을 구현하세요.\n",
        "  dLdH = np.dot(W2, dLdZ2) #  그림에서 4의 구현 \n",
        "\n",
        "  # 5) dLoss/dZ1의 구현 - '...'을 구현하세요.\n",
        "  dLdZ1 = dLdH * H *(1 - H) # 그림에서 5의 구현 \n",
        "\n",
        "  # 6) dLoss/dW1의 구현 - '...'을 구현하세요.\n",
        "  dLdW1 = np.dot(X, dLdZ1.T) # 그림에서 6의 구현 \n",
        "\n",
        "  # 7) dLoss/dB2의 구현 - '...'을 구현하세요.\n",
        "  dLdB1 = np.sum(dLdZ1, axis=1, keepdims=True)\n",
        "\n",
        "  return [dLdW1, dLdB1, dLdW2, dLdB2], loss"
      ],
      "metadata": {
        "id": "RHOVt9i9UIl9"
      },
      "execution_count": 157,
      "outputs": []
    },
    {
      "cell_type": "markdown",
      "source": [
        "## 시그모이드 함수의 미분\n",
        "\n",
        "시그모이드의 도함수는 $\\sigma(x)\\cdot(1-\\sigma(x))$ 이므로, 이 값이 0 또는 1에 가까울수록 출력값도 0에 가까워지게 된다. \n",
        "\n",
        "즉 뉴런의 기울기 값이 0에 수렴하므로, 역전파 시 0이 곱해지면서 기울기가 소실한다. 이로 인해 결과적으로 다음 층에 아무런 정보가 전달되지 않게 되는 문제점이 있기 때문이다."
      ],
      "metadata": {
        "id": "mAk3oggWjvP1"
      }
    },
    {
      "cell_type": "markdown",
      "source": [
        "학습하기 "
      ],
      "metadata": {
        "id": "MC2V7hYBlIlN"
      }
    },
    {
      "cell_type": "code",
      "source": [
        "def optimize (X, Y, _params, learning_rate = 0.1, iteration = 1000):\n",
        "\n",
        "    params = np.copy(_params) # 파라미터 복사\n",
        "    loss_trace = [] # 손실 값 저장 \n",
        "\n",
        "    for epoch in range(iteration): # 학습 반복 \n",
        "        dparams, loss = get_gradients(X, Y, params) # 그레디언트 추출 \n",
        "        for param, dparam in zip(params, dparams): \n",
        "            param += - learning_rate * dparam # 경사하강법 구현 \n",
        "\n",
        "        if (epoch % 100 == 0): # 손실값 저장 \n",
        "            loss_trace.append(loss)\n",
        "\n",
        "    _, _, _, Y_hat_predict, _ = forward_loss(X, Y, params) # 학습된 모델로 추론 \n",
        "\n",
        "    return params,loss_trace, Y_hat_predict"
      ],
      "metadata": {
        "id": "gN-H3YkQlJFl"
      },
      "execution_count": 158,
      "outputs": []
    },
    {
      "cell_type": "code",
      "source": [
        "X = np.array([0, 0, 1, 1, 0, 1, 0, 1]).reshape(2,4) # 입력\n",
        "Y = np.array([0, 1, 1, 0]).reshape(1,4) # 정답 \n",
        "\n",
        "params = init_parameters(2) # 파라미터 세팅 \n",
        "new_params, loss_trace, Y_hat_predict = optimize(X, Y, params, 0.1, 150000) # 학습 및 추론 "
      ],
      "metadata": {
        "colab": {
          "base_uri": "https://localhost:8080/"
        },
        "id": "pq9yeu0RlKNl",
        "outputId": "1546e471-68fb-470b-ec39-a5e128db4893"
      },
      "execution_count": 167,
      "outputs": [
        {
          "output_type": "stream",
          "name": "stderr",
          "text": [
            "/usr/local/lib/python3.10/dist-packages/numpy/lib/function_base.py:935: VisibleDeprecationWarning: Creating an ndarray from ragged nested sequences (which is a list-or-tuple of lists-or-tuples-or ndarrays with different lengths or shapes) is deprecated. If you meant to do this, you must specify 'dtype=object' when creating the ndarray.\n",
            "  return array(a, order=order, subok=subok, copy=True)\n"
          ]
        },
        {
          "output_type": "stream",
          "name": "stdout",
          "text": [
            "[[0.000555 0.999424 0.999425 0.000861]]\n"
          ]
        }
      ]
    },
    {
      "cell_type": "code",
      "source": [
        "# 지수표기(e)를 숫자로 변환하기 위한 코드를 추가하였음\n",
        "\n",
        "import pandas as pd\n",
        "\n",
        "np.set_printoptions(precision=6, suppress=True) \n",
        "pd.options.display.float_format = '{:.5f}'.format\n",
        "pd.reset_option('display.float_format')"
      ],
      "metadata": {
        "id": "n4UPbLudzYHP"
      },
      "execution_count": 166,
      "outputs": []
    },
    {
      "cell_type": "code",
      "source": [
        "# Y = [0 1 1 0] 이었으므로 Y값에 근사함\n",
        "Y_hat_predict"
      ],
      "metadata": {
        "colab": {
          "base_uri": "https://localhost:8080/"
        },
        "id": "IUs38kDSz6yY",
        "outputId": "cf4fb3f5-f9e2-4ccb-c85e-2b3a9db0cf15"
      },
      "execution_count": 169,
      "outputs": [
        {
          "output_type": "execute_result",
          "data": {
            "text/plain": [
              "array([[0.000555, 0.999424, 0.999425, 0.000861]])"
            ]
          },
          "metadata": {},
          "execution_count": 169
        }
      ]
    },
    {
      "cell_type": "code",
      "source": [
        "import matplotlib.pyplot as plt\n",
        "\n",
        "# Plot learning curve (with costs)\n",
        "plt.plot(loss_trace)\n",
        "plt.ylabel('loss')\n",
        "plt.xlabel('iterations (per hundreds)')\n",
        "plt.show()"
      ],
      "metadata": {
        "colab": {
          "base_uri": "https://localhost:8080/",
          "height": 449
        },
        "id": "AVkgNbRJmw7g",
        "outputId": "6cdf7bef-8e8a-43fb-d18b-2ac49efb5566"
      },
      "execution_count": 160,
      "outputs": [
        {
          "output_type": "display_data",
          "data": {
            "text/plain": [
              "<Figure size 640x480 with 1 Axes>"
            ],
            "image/png": "[encoded data removed]"
          },
          "metadata": {}
        }
      ]
    }
  ]
}